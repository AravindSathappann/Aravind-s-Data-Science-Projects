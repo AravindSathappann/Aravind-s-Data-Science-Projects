{
 "cells": [
  {
   "cell_type": "code",
   "execution_count": 77,
   "id": "d57845b0",
   "metadata": {},
   "outputs": [
    {
     "data": {
      "text/html": [
       "<div>\n",
       "<style scoped>\n",
       "    .dataframe tbody tr th:only-of-type {\n",
       "        vertical-align: middle;\n",
       "    }\n",
       "\n",
       "    .dataframe tbody tr th {\n",
       "        vertical-align: top;\n",
       "    }\n",
       "\n",
       "    .dataframe thead th {\n",
       "        text-align: right;\n",
       "    }\n",
       "</style>\n",
       "<table border=\"1\" class=\"dataframe\">\n",
       "  <thead>\n",
       "    <tr style=\"text-align: right;\">\n",
       "      <th></th>\n",
       "      <th>No.</th>\n",
       "      <th>Runs</th>\n",
       "      <th>Against</th>\n",
       "      <th>Position</th>\n",
       "      <th>Innings</th>\n",
       "      <th>Venue</th>\n",
       "      <th>Ground</th>\n",
       "      <th>Date</th>\n",
       "      <th>Result</th>\n",
       "    </tr>\n",
       "  </thead>\n",
       "  <tbody>\n",
       "    <tr>\n",
       "      <th>0</th>\n",
       "      <td>1</td>\n",
       "      <td>107</td>\n",
       "      <td>Sri Lanka</td>\n",
       "      <td>4</td>\n",
       "      <td>2</td>\n",
       "      <td>Eden Gardens, Kolkata</td>\n",
       "      <td>Home</td>\n",
       "      <td>24-Dec-09</td>\n",
       "      <td>Won</td>\n",
       "    </tr>\n",
       "    <tr>\n",
       "      <th>1</th>\n",
       "      <td>2</td>\n",
       "      <td>102*</td>\n",
       "      <td>Bangladesh</td>\n",
       "      <td>3</td>\n",
       "      <td>2</td>\n",
       "      <td>Sher-e-Bangla Cricket Stadium, Dhaka</td>\n",
       "      <td>Away</td>\n",
       "      <td>11-Jan-10</td>\n",
       "      <td>Won</td>\n",
       "    </tr>\n",
       "    <tr>\n",
       "      <th>2</th>\n",
       "      <td>3</td>\n",
       "      <td>118</td>\n",
       "      <td>Australia</td>\n",
       "      <td>3</td>\n",
       "      <td>2</td>\n",
       "      <td>APCA-VDCA Stadium, Visakhapatnam</td>\n",
       "      <td>Home</td>\n",
       "      <td>20-Oct-10</td>\n",
       "      <td>Won</td>\n",
       "    </tr>\n",
       "    <tr>\n",
       "      <th>3</th>\n",
       "      <td>4</td>\n",
       "      <td>105</td>\n",
       "      <td>New Zealand</td>\n",
       "      <td>3</td>\n",
       "      <td>1</td>\n",
       "      <td>Nehru Stadium, Guwahati</td>\n",
       "      <td>Home</td>\n",
       "      <td>28-Nov-10</td>\n",
       "      <td>Won</td>\n",
       "    </tr>\n",
       "    <tr>\n",
       "      <th>4</th>\n",
       "      <td>5</td>\n",
       "      <td>100*</td>\n",
       "      <td>Bangladesh</td>\n",
       "      <td>4</td>\n",
       "      <td>1</td>\n",
       "      <td>Sher-e-Bangla Cricket Stadium, Dhaka</td>\n",
       "      <td>Away</td>\n",
       "      <td>19-Feb-11</td>\n",
       "      <td>Won</td>\n",
       "    </tr>\n",
       "    <tr>\n",
       "      <th>...</th>\n",
       "      <td>...</td>\n",
       "      <td>...</td>\n",
       "      <td>...</td>\n",
       "      <td>...</td>\n",
       "      <td>...</td>\n",
       "      <td>...</td>\n",
       "      <td>...</td>\n",
       "      <td>...</td>\n",
       "      <td>...</td>\n",
       "    </tr>\n",
       "    <tr>\n",
       "      <th>75</th>\n",
       "      <td>76</td>\n",
       "      <td>121</td>\n",
       "      <td>West Indies</td>\n",
       "      <td>4</td>\n",
       "      <td>1</td>\n",
       "      <td>Queen's Park Oval, Port of Spain</td>\n",
       "      <td>Away</td>\n",
       "      <td>20-Jul-23</td>\n",
       "      <td>Drawn</td>\n",
       "    </tr>\n",
       "    <tr>\n",
       "      <th>76</th>\n",
       "      <td>77</td>\n",
       "      <td>122*</td>\n",
       "      <td>Pakistan</td>\n",
       "      <td>3</td>\n",
       "      <td>1</td>\n",
       "      <td>R. Premadasa Stadium, Colombo</td>\n",
       "      <td>Neutral</td>\n",
       "      <td>11-Sep-23</td>\n",
       "      <td>Won</td>\n",
       "    </tr>\n",
       "    <tr>\n",
       "      <th>77</th>\n",
       "      <td>78</td>\n",
       "      <td>103*</td>\n",
       "      <td>Bangladesh</td>\n",
       "      <td>3</td>\n",
       "      <td>2</td>\n",
       "      <td>Maharashtra Cricket Association Stadium, Pune</td>\n",
       "      <td>Home</td>\n",
       "      <td>19-Oct-23</td>\n",
       "      <td>Won</td>\n",
       "    </tr>\n",
       "    <tr>\n",
       "      <th>78</th>\n",
       "      <td>79</td>\n",
       "      <td>101*</td>\n",
       "      <td>South Africa</td>\n",
       "      <td>3</td>\n",
       "      <td>1</td>\n",
       "      <td>Eden Gardens, Kolkata</td>\n",
       "      <td>NaN</td>\n",
       "      <td>05-Nov</td>\n",
       "      <td>Won</td>\n",
       "    </tr>\n",
       "    <tr>\n",
       "      <th>79</th>\n",
       "      <td>80</td>\n",
       "      <td>117</td>\n",
       "      <td>New Zealand</td>\n",
       "      <td>3</td>\n",
       "      <td>1</td>\n",
       "      <td>Wankhede Stadium, Mumbai</td>\n",
       "      <td>Home</td>\n",
       "      <td>15-Nov-23</td>\n",
       "      <td>Won</td>\n",
       "    </tr>\n",
       "  </tbody>\n",
       "</table>\n",
       "<p>80 rows × 9 columns</p>\n",
       "</div>"
      ],
      "text/plain": [
       "    No.   Runs       Against  Position  Innings  \\\n",
       "0     1    107     Sri Lanka         4        2   \n",
       "1     2  102*     Bangladesh         3        2   \n",
       "2     3    118     Australia         3        2   \n",
       "3     4    105   New Zealand         3        1   \n",
       "4     5   100*    Bangladesh         4        1   \n",
       "..  ...    ...           ...       ...      ...   \n",
       "75   76    121   West Indies         4        1   \n",
       "76   77   122*      Pakistan         3        1   \n",
       "77   78   103*    Bangladesh         3        2   \n",
       "78   79   101*  South Africa         3        1   \n",
       "79   80    117   New Zealand         3        1   \n",
       "\n",
       "                                            Venue   Ground       Date Result  \n",
       "0                           Eden Gardens, Kolkata     Home  24-Dec-09    Won  \n",
       "1            Sher-e-Bangla Cricket Stadium, Dhaka     Away  11-Jan-10    Won  \n",
       "2                APCA-VDCA Stadium, Visakhapatnam     Home  20-Oct-10    Won  \n",
       "3                         Nehru Stadium, Guwahati     Home  28-Nov-10    Won  \n",
       "4            Sher-e-Bangla Cricket Stadium, Dhaka     Away  19-Feb-11    Won  \n",
       "..                                            ...      ...        ...    ...  \n",
       "75               Queen's Park Oval, Port of Spain     Away  20-Jul-23  Drawn  \n",
       "76                  R. Premadasa Stadium, Colombo  Neutral  11-Sep-23    Won  \n",
       "77  Maharashtra Cricket Association Stadium, Pune     Home  19-Oct-23    Won  \n",
       "78                          Eden Gardens, Kolkata      NaN     05-Nov    Won  \n",
       "79                       Wankhede Stadium, Mumbai     Home  15-Nov-23    Won  \n",
       "\n",
       "[80 rows x 9 columns]"
      ]
     },
     "execution_count": 77,
     "metadata": {},
     "output_type": "execute_result"
    }
   ],
   "source": [
    "import pandas as pd \n",
    "import numpy as np\n",
    "import matplotlib.pyplot as plt\n",
    "import seaborn as sns\n",
    "pd.read_csv('Virat-Kohli-International-Cricket-Centuries.csv')"
   ]
  },
  {
   "cell_type": "code",
   "execution_count": 78,
   "id": "a063e65c",
   "metadata": {},
   "outputs": [],
   "source": [
    "Kohli = pd.read_csv('Virat-Kohli-International-Cricket-Centuries.csv')"
   ]
  },
  {
   "cell_type": "code",
   "execution_count": 79,
   "id": "3ef971f3",
   "metadata": {},
   "outputs": [
    {
     "data": {
      "text/plain": [
       "No.         80\n",
       "Runs        80\n",
       "Against     80\n",
       "Position    80\n",
       "Innings     80\n",
       "Venue       80\n",
       "Ground      79\n",
       "Date        80\n",
       "Result      80\n",
       "dtype: int64"
      ]
     },
     "execution_count": 79,
     "metadata": {},
     "output_type": "execute_result"
    }
   ],
   "source": [
    "Kohli.columns\n",
    "\n",
    "Kohli.count()"
   ]
  },
  {
   "cell_type": "code",
   "execution_count": 80,
   "id": "0edf6409",
   "metadata": {},
   "outputs": [
    {
     "data": {
      "text/plain": [
       "40.5"
      ]
     },
     "execution_count": 80,
     "metadata": {},
     "output_type": "execute_result"
    }
   ],
   "source": [
    "Kohli['No.'].mean()"
   ]
  },
  {
   "cell_type": "code",
   "execution_count": 81,
   "id": "9ac3bbfa",
   "metadata": {},
   "outputs": [
    {
     "name": "stdout",
     "output_type": "stream",
     "text": [
      "0     107\n",
      "1     102\n",
      "2     118\n",
      "3     105\n",
      "4     100\n",
      "     ... \n",
      "75    121\n",
      "76    122\n",
      "77    103\n",
      "78    101\n",
      "79    117\n",
      "Name: Runs, Length: 80, dtype: int64\n"
     ]
    }
   ],
   "source": [
    "Kohli['Runs'] = Kohli['Runs'].str.replace('*', '', regex=False)\n",
    "Kohli['Runs'] = pd.to_numeric(Kohli['Runs'])\n",
    "\n",
    "# Display the DataFrame\n",
    "print(Kohli['Runs'])"
   ]
  },
  {
   "cell_type": "code",
   "execution_count": 51,
   "id": "a2dfe4e7",
   "metadata": {},
   "outputs": [
    {
     "data": {
      "text/html": [
       "<div>\n",
       "<style scoped>\n",
       "    .dataframe tbody tr th:only-of-type {\n",
       "        vertical-align: middle;\n",
       "    }\n",
       "\n",
       "    .dataframe tbody tr th {\n",
       "        vertical-align: top;\n",
       "    }\n",
       "\n",
       "    .dataframe thead th {\n",
       "        text-align: right;\n",
       "    }\n",
       "</style>\n",
       "<table border=\"1\" class=\"dataframe\">\n",
       "  <thead>\n",
       "    <tr style=\"text-align: right;\">\n",
       "      <th></th>\n",
       "      <th>No.</th>\n",
       "      <th>Runs</th>\n",
       "      <th>Against</th>\n",
       "      <th>Position</th>\n",
       "      <th>Innings</th>\n",
       "      <th>Venue</th>\n",
       "      <th>Ground</th>\n",
       "      <th>Date</th>\n",
       "      <th>Result</th>\n",
       "    </tr>\n",
       "  </thead>\n",
       "  <tbody>\n",
       "    <tr>\n",
       "      <th>0</th>\n",
       "      <td>1</td>\n",
       "      <td>107</td>\n",
       "      <td>Sri Lanka</td>\n",
       "      <td>4</td>\n",
       "      <td>2</td>\n",
       "      <td>Eden Gardens, Kolkata</td>\n",
       "      <td>Home</td>\n",
       "      <td>24-Dec-09</td>\n",
       "      <td>Won</td>\n",
       "    </tr>\n",
       "    <tr>\n",
       "      <th>1</th>\n",
       "      <td>2</td>\n",
       "      <td>102</td>\n",
       "      <td>Bangladesh</td>\n",
       "      <td>3</td>\n",
       "      <td>2</td>\n",
       "      <td>Sher-e-Bangla Cricket Stadium, Dhaka</td>\n",
       "      <td>Away</td>\n",
       "      <td>11-Jan-10</td>\n",
       "      <td>Won</td>\n",
       "    </tr>\n",
       "    <tr>\n",
       "      <th>2</th>\n",
       "      <td>3</td>\n",
       "      <td>118</td>\n",
       "      <td>Australia</td>\n",
       "      <td>3</td>\n",
       "      <td>2</td>\n",
       "      <td>APCA-VDCA Stadium, Visakhapatnam</td>\n",
       "      <td>Home</td>\n",
       "      <td>20-Oct-10</td>\n",
       "      <td>Won</td>\n",
       "    </tr>\n",
       "    <tr>\n",
       "      <th>3</th>\n",
       "      <td>4</td>\n",
       "      <td>105</td>\n",
       "      <td>New Zealand</td>\n",
       "      <td>3</td>\n",
       "      <td>1</td>\n",
       "      <td>Nehru Stadium, Guwahati</td>\n",
       "      <td>Home</td>\n",
       "      <td>28-Nov-10</td>\n",
       "      <td>Won</td>\n",
       "    </tr>\n",
       "    <tr>\n",
       "      <th>4</th>\n",
       "      <td>5</td>\n",
       "      <td>100</td>\n",
       "      <td>Bangladesh</td>\n",
       "      <td>4</td>\n",
       "      <td>1</td>\n",
       "      <td>Sher-e-Bangla Cricket Stadium, Dhaka</td>\n",
       "      <td>Away</td>\n",
       "      <td>19-Feb-11</td>\n",
       "      <td>Won</td>\n",
       "    </tr>\n",
       "    <tr>\n",
       "      <th>...</th>\n",
       "      <td>...</td>\n",
       "      <td>...</td>\n",
       "      <td>...</td>\n",
       "      <td>...</td>\n",
       "      <td>...</td>\n",
       "      <td>...</td>\n",
       "      <td>...</td>\n",
       "      <td>...</td>\n",
       "      <td>...</td>\n",
       "    </tr>\n",
       "    <tr>\n",
       "      <th>75</th>\n",
       "      <td>76</td>\n",
       "      <td>121</td>\n",
       "      <td>West Indies</td>\n",
       "      <td>4</td>\n",
       "      <td>1</td>\n",
       "      <td>Queen's Park Oval, Port of Spain</td>\n",
       "      <td>Away</td>\n",
       "      <td>20-Jul-23</td>\n",
       "      <td>Drawn</td>\n",
       "    </tr>\n",
       "    <tr>\n",
       "      <th>76</th>\n",
       "      <td>77</td>\n",
       "      <td>122</td>\n",
       "      <td>Pakistan</td>\n",
       "      <td>3</td>\n",
       "      <td>1</td>\n",
       "      <td>R. Premadasa Stadium, Colombo</td>\n",
       "      <td>Neutral</td>\n",
       "      <td>11-Sep-23</td>\n",
       "      <td>Won</td>\n",
       "    </tr>\n",
       "    <tr>\n",
       "      <th>77</th>\n",
       "      <td>78</td>\n",
       "      <td>103</td>\n",
       "      <td>Bangladesh</td>\n",
       "      <td>3</td>\n",
       "      <td>2</td>\n",
       "      <td>Maharashtra Cricket Association Stadium, Pune</td>\n",
       "      <td>Home</td>\n",
       "      <td>19-Oct-23</td>\n",
       "      <td>Won</td>\n",
       "    </tr>\n",
       "    <tr>\n",
       "      <th>78</th>\n",
       "      <td>79</td>\n",
       "      <td>101</td>\n",
       "      <td>South Africa</td>\n",
       "      <td>3</td>\n",
       "      <td>1</td>\n",
       "      <td>Eden Gardens, Kolkata</td>\n",
       "      <td>NaN</td>\n",
       "      <td>05-Nov</td>\n",
       "      <td>Won</td>\n",
       "    </tr>\n",
       "    <tr>\n",
       "      <th>79</th>\n",
       "      <td>80</td>\n",
       "      <td>117</td>\n",
       "      <td>New Zealand</td>\n",
       "      <td>3</td>\n",
       "      <td>1</td>\n",
       "      <td>Wankhede Stadium, Mumbai</td>\n",
       "      <td>Home</td>\n",
       "      <td>15-Nov-23</td>\n",
       "      <td>Won</td>\n",
       "    </tr>\n",
       "  </tbody>\n",
       "</table>\n",
       "<p>80 rows × 9 columns</p>\n",
       "</div>"
      ],
      "text/plain": [
       "    No.  Runs       Against  Position  Innings  \\\n",
       "0     1   107     Sri Lanka         4        2   \n",
       "1     2   102    Bangladesh         3        2   \n",
       "2     3   118     Australia         3        2   \n",
       "3     4   105   New Zealand         3        1   \n",
       "4     5   100    Bangladesh         4        1   \n",
       "..  ...   ...           ...       ...      ...   \n",
       "75   76   121   West Indies         4        1   \n",
       "76   77   122      Pakistan         3        1   \n",
       "77   78   103    Bangladesh         3        2   \n",
       "78   79   101  South Africa         3        1   \n",
       "79   80   117   New Zealand         3        1   \n",
       "\n",
       "                                            Venue   Ground       Date Result  \n",
       "0                           Eden Gardens, Kolkata     Home  24-Dec-09    Won  \n",
       "1            Sher-e-Bangla Cricket Stadium, Dhaka     Away  11-Jan-10    Won  \n",
       "2                APCA-VDCA Stadium, Visakhapatnam     Home  20-Oct-10    Won  \n",
       "3                         Nehru Stadium, Guwahati     Home  28-Nov-10    Won  \n",
       "4            Sher-e-Bangla Cricket Stadium, Dhaka     Away  19-Feb-11    Won  \n",
       "..                                            ...      ...        ...    ...  \n",
       "75               Queen's Park Oval, Port of Spain     Away  20-Jul-23  Drawn  \n",
       "76                  R. Premadasa Stadium, Colombo  Neutral  11-Sep-23    Won  \n",
       "77  Maharashtra Cricket Association Stadium, Pune     Home  19-Oct-23    Won  \n",
       "78                          Eden Gardens, Kolkata      NaN     05-Nov    Won  \n",
       "79                       Wankhede Stadium, Mumbai     Home  15-Nov-23    Won  \n",
       "\n",
       "[80 rows x 9 columns]"
      ]
     },
     "execution_count": 51,
     "metadata": {},
     "output_type": "execute_result"
    }
   ],
   "source": [
    "Kohli"
   ]
  },
  {
   "cell_type": "code",
   "execution_count": 52,
   "id": "ac00fb86",
   "metadata": {},
   "outputs": [
    {
     "data": {
      "text/plain": [
       "131.55"
      ]
     },
     "execution_count": 52,
     "metadata": {},
     "output_type": "execute_result"
    }
   ],
   "source": [
    "Kohli['Runs'].mean()\n",
    "\n"
   ]
  },
  {
   "cell_type": "code",
   "execution_count": 55,
   "id": "3ffc21ea",
   "metadata": {},
   "outputs": [
    {
     "name": "stderr",
     "output_type": "stream",
     "text": [
      "/var/folders/_l/4l0tlm8d2812gt5rf77kpy8c0000gp/T/ipykernel_92755/3902137890.py:1: FutureWarning: The default value of numeric_only in DataFrame.std is deprecated. In a future version, it will default to False. In addition, specifying 'numeric_only=None' is deprecated. Select only valid columns or specify the value of numeric_only to silence this warning.\n",
      "  Kohli.std()\n"
     ]
    },
    {
     "data": {
      "text/plain": [
       "No.         23.237900\n",
       "Runs        35.094772\n",
       "Position     0.656033\n",
       "Innings      0.670820\n",
       "dtype: float64"
      ]
     },
     "execution_count": 55,
     "metadata": {},
     "output_type": "execute_result"
    }
   ],
   "source": [
    "Kohli.std()"
   ]
  },
  {
   "cell_type": "code",
   "execution_count": 62,
   "id": "7c0bc671",
   "metadata": {},
   "outputs": [
    {
     "data": {
      "text/plain": [
       "(array([34., 19.,  9.,  6.,  3.,  2.,  2.,  2.,  1.,  2.]),\n",
       " array([100. , 115.4, 130.8, 146.2, 161.6, 177. , 192.4, 207.8, 223.2,\n",
       "        238.6, 254. ]),\n",
       " <BarContainer object of 10 artists>)"
      ]
     },
     "execution_count": 62,
     "metadata": {},
     "output_type": "execute_result"
    },
    {
     "data": {
      "image/png": "[encoded data removed]",
      "text/plain": [
       "<Figure size 640x480 with 1 Axes>"
      ]
     },
     "metadata": {},
     "output_type": "display_data"
    }
   ],
   "source": [
    "plt.hist(Kohli['Runs'])"
   ]
  },
  {
   "cell_type": "code",
   "execution_count": 63,
   "id": "e33c6853",
   "metadata": {},
   "outputs": [
    {
     "name": "stderr",
     "output_type": "stream",
     "text": [
      "/var/folders/_l/4l0tlm8d2812gt5rf77kpy8c0000gp/T/ipykernel_92755/4269111098.py:1: FutureWarning: The default value of numeric_only in DataFrame.skew is deprecated. In a future version, it will default to False. In addition, specifying 'numeric_only=None' is deprecated. Select only valid columns or specify the value of numeric_only to silence this warning.\n",
      "  Kohli.skew()\n"
     ]
    },
    {
     "data": {
      "text/plain": [
       "No.         0.000000\n",
       "Runs        1.800528\n",
       "Position    0.965628\n",
       "Innings     1.006710\n",
       "dtype: float64"
      ]
     },
     "execution_count": 63,
     "metadata": {},
     "output_type": "execute_result"
    }
   ],
   "source": [
    "Kohli.skew()"
   ]
  },
  {
   "cell_type": "code",
   "execution_count": 64,
   "id": "ab0bdf93",
   "metadata": {},
   "outputs": [
    {
     "name": "stderr",
     "output_type": "stream",
     "text": [
      "/var/folders/_l/4l0tlm8d2812gt5rf77kpy8c0000gp/T/ipykernel_92755/3665616734.py:1: FutureWarning: The default value of numeric_only in DataFrame.kurt is deprecated. In a future version, it will default to False. In addition, specifying 'numeric_only=None' is deprecated. Select only valid columns or specify the value of numeric_only to silence this warning.\n",
      "  Kohli.kurtosis()\n"
     ]
    },
    {
     "data": {
      "text/plain": [
       "No.        -1.200000\n",
       "Runs        2.867002\n",
       "Position    1.601497\n",
       "Innings     1.941350\n",
       "dtype: float64"
      ]
     },
     "execution_count": 64,
     "metadata": {},
     "output_type": "execute_result"
    }
   ],
   "source": [
    "Kohli.kurtosis()"
   ]
  },
  {
   "cell_type": "code",
   "execution_count": 110,
   "id": "b45d896a",
   "metadata": {},
   "outputs": [
    {
     "name": "stdout",
     "output_type": "stream",
     "text": [
      "Centuries against SL: 15\n",
      "12\n",
      "3\n",
      "9\n",
      "16\n",
      "8\n",
      "7\n",
      "8\n",
      "1\n",
      "1\n"
     ]
    }
   ],
   "source": [
    "SriLanka = print(\"Centuries against SL:\", Kohli['Against'].str.contains('Sri Lanka').sum())\n",
    "WI = print(Kohli['Against'].str.contains('West Indies').sum())\n",
    "Pakistan = print(Kohli['Against'].str.contains('Pakistan').sum())\n",
    "NewZ = print(Kohli['Against'].str.contains('New Zealand').sum())\n",
    "Aus = print(Kohli['Against'].str.contains('Australia').sum())\n",
    "SA = print(Kohli['Against'].str.contains('South Africa').sum())\n",
    "Ban = print(Kohli['Against'].str.contains('Bangladesh').sum())\n",
    "Eng = print(Kohli['Against'].str.contains('England').sum())\n",
    "Afg = print(Kohli['Against'].str.contains('Afghanistan').sum())\n",
    "Zim = print(Kohli['Against'].str.contains('Zimbabwe').sum())\n",
    "\n",
    "\n",
    "\n",
    "\n",
    "\n",
    "#count_sri_lanka = df['Against'].str.contains('Sri Lanka').sum()\n"
   ]
  },
  {
   "cell_type": "code",
   "execution_count": 97,
   "id": "c40bb06d",
   "metadata": {},
   "outputs": [
    {
     "data": {
      "text/plain": [
       "(array([-10.,   0.,  10.,  20.,  30.,  40.,  50.,  60.,  70.,  80.,  90.]),\n",
       " [Text(-10.0, 0, '−10'),\n",
       "  Text(0.0, 0, '0'),\n",
       "  Text(10.0, 0, '10'),\n",
       "  Text(20.0, 0, '20'),\n",
       "  Text(30.0, 0, '30'),\n",
       "  Text(40.0, 0, '40'),\n",
       "  Text(50.0, 0, '50'),\n",
       "  Text(60.0, 0, '60'),\n",
       "  Text(70.0, 0, '70'),\n",
       "  Text(80.0, 0, '80'),\n",
       "  Text(90.0, 0, '90')])"
      ]
     },
     "execution_count": 97,
     "metadata": {},
     "output_type": "execute_result"
    },
    {
     "data": {
      "image/png": "[encoded data removed]",
      "text/plain": [
       "<Figure size 640x480 with 1 Axes>"
      ]
     },
     "metadata": {},
     "output_type": "display_data"
    }
   ],
   "source": [
    "plt.bar(Kohli['No.'], Kohli['Against'])\n",
    "plt.xticks(rotation=45, ha='right')"
   ]
  },
  {
   "cell_type": "code",
   "execution_count": null,
   "id": "f4f89087",
   "metadata": {},
   "outputs": [],
   "source": []
  }
 ],
 "metadata": {
  "kernelspec": {
   "display_name": "Python 3 (ipykernel)",
   "language": "python",
   "name": "python3"
  },
  "language_info": {
   "codemirror_mode": {
    "name": "ipython",
    "version": 3
   },
   "file_extension": ".py",
   "mimetype": "text/x-python",
   "name": "python",
   "nbconvert_exporter": "python",
   "pygments_lexer": "ipython3",
   "version": "3.11.5"
  }
 },
 "nbformat": 4,
 "nbformat_minor": 5
}
